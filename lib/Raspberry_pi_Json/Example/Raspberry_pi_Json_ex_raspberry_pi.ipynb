{
 "cells": [
  {
   "cell_type": "markdown",
   "metadata": {},
   "source": [
    "### Still on progress"
   ]
  },
  {
   "cell_type": "code",
   "execution_count": 1,
   "metadata": {},
   "outputs": [],
   "source": [
    "def send_data(data_dict : dict, PORT_str : str, baudrate=115200, timeout=10) : \n",
    "    assert \"Angle_left\" in data_dict.keys(), KeyError(\"Key [Angle_left] is missing.\")\n",
    "    assert \"Angle_right\" in data_dict.keys(), KeyError(\"Key [Angle_right] is missing.\")\n",
    "\n",
    "    import pickle, serial\n",
    "\n",
    "    serialized_data = pickle.dumps(data_dict)\n",
    "\n",
    "    serial_class = serial.Serial(port=PORT_str, baudrate=baudrate, timeout=timeout)\n",
    "\n",
    "    if serial_class.is_open : \n",
    "        serial_class.write(serialized_data)\n",
    "    \n",
    "    else : \n",
    "        print(\"[Warning] : Failed to open Serial with port [{}]\".format(PORT_str))\n",
    "\n",
    "    serial_class.close()\n"
   ]
  },
  {
   "cell_type": "code",
   "execution_count": null,
   "metadata": {},
   "outputs": [],
   "source": []
  }
 ],
 "metadata": {
  "kernelspec": {
   "display_name": "Python 3",
   "language": "python",
   "name": "python3"
  },
  "language_info": {
   "codemirror_mode": {
    "name": "ipython",
    "version": 3
   },
   "file_extension": ".py",
   "mimetype": "text/x-python",
   "name": "python",
   "nbconvert_exporter": "python",
   "pygments_lexer": "ipython3",
   "version": "3.9.0"
  }
 },
 "nbformat": 4,
 "nbformat_minor": 2
}
