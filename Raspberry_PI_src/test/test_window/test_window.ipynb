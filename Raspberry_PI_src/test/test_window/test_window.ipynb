{
 "cells": [
  {
   "cell_type": "code",
   "execution_count": null,
   "metadata": {},
   "outputs": [],
   "source": [
    "\n",
    "import cv2\n",
    "\n",
    "if __name__ == \"__main__\" : \n",
    "    CAM_class = None\n",
    "    CAM_port = 0\n",
    "    CAM_class = cv2.VideoCapture(CAM_port)\n",
    "\n",
    "    if CAM_class.isOpened() : \n",
    "        \n",
    "        while CAM_class.isOpened() : \n",
    "            ret, frame = CAM_class.read()\n",
    "\n",
    "            if not ret : \n",
    "                print(\"Failed to load image from camera.\")\n",
    "                break\n",
    "            \n",
    "            cv2.imshow(winname=\"window\", mat=frame)\n",
    "\n",
    "            if cv2.waitKey(25) == ord('q') : \n",
    "                print(\"Shutting down window...\")\n",
    "                break\n",
    "\n",
    "    else : \n",
    "        print(\"Failed to open camera with port [ {} ]\".format(CAM_port))\n",
    "\n",
    "    CAM_class.release()\n",
    "\n",
    "    print(\"Program exited with no error.\\n\")"
   ]
  }
 ],
 "metadata": {
  "kernelspec": {
   "display_name": "Yolo",
   "language": "python",
   "name": "python3"
  },
  "language_info": {
   "name": "python",
   "version": "3.9.18"
  }
 },
 "nbformat": 4,
 "nbformat_minor": 2
}
